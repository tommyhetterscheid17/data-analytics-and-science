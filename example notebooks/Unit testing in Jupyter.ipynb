{
 "cells": [
  {
   "cell_type": "code",
<<<<<<< Updated upstream:example notebooks/Unit testing in Jupyter.ipynb
   "execution_count": 1,
   "metadata": {},
   "outputs": [],
   "source": [
    "def sum_numbers(a, b):\n",
    "    \"\"\"Return the sum of a and b\"\"\"\n",
=======
   "execution_count": 5,
   "metadata": {},
   "outputs": [],
   "source": [
    "def sum_number(a, b):\n",
    "    \"\"\"Return the sum_number of a and b\"\"\"\n",
>>>>>>> Stashed changes:references/notebooks/unit test example.ipynb
    "    return a + b\n",
    "\n",
    "def increase_with_the_answer_to_everything(a):\n",
    "    \"\"\"Return the sum_number of a and 42\"\"\"\n",
    "    return a + 42\n",
    "\n",
    "def add_hello_to_string(string):\n",
    "    \"\"\"Return a string with hello attached to the end\"\"\"\n",
    "    return string + \"hello\""
   ]
  },
  {
   "cell_type": "code",
<<<<<<< Updated upstream:example notebooks/Unit testing in Jupyter.ipynb
   "execution_count": 2,
=======
   "execution_count": 6,
>>>>>>> Stashed changes:references/notebooks/unit test example.ipynb
   "metadata": {},
   "outputs": [
    {
     "name": "stderr",
     "output_type": "stream",
     "text": [
      "test_add_hello_to_string (__main__.TestNotebook) ... ok\n",
      "test_increase_with_the_answer_to_everything (__main__.TestNotebook) ... ok\n",
      "test_sum_number_expect_fail (__main__.TestNotebook) ... ok\n",
      "test_sum_number_expect_ok (__main__.TestNotebook) ... ok\n",
      "\n",
      "----------------------------------------------------------------------\n",
<<<<<<< Updated upstream:example notebooks/Unit testing in Jupyter.ipynb
      "Ran 4 tests in 0.011s\n",
=======
      "Ran 4 tests in 0.006s\n",
>>>>>>> Stashed changes:references/notebooks/unit test example.ipynb
      "\n",
      "OK\n"
     ]
    },
    {
     "data": {
      "text/plain": [
<<<<<<< Updated upstream:example notebooks/Unit testing in Jupyter.ipynb
       "<unittest.main.TestProgram at 0x1363934eb00>"
      ]
     },
     "execution_count": 2,
=======
       "<unittest.main.TestProgram at 0x2641e1c4ef0>"
      ]
     },
     "execution_count": 6,
>>>>>>> Stashed changes:references/notebooks/unit test example.ipynb
     "metadata": {},
     "output_type": "execute_result"
    }
   ],
   "source": [
    "import unittest\n",
    "\n",
    "class TestNotebook(unittest.TestCase):\n",
    "    \n",
<<<<<<< Updated upstream:example notebooks/Unit testing in Jupyter.ipynb
    "    def test_sum_expect_ok(self):\n",
    "        self.assertEqual(sum_numbers(5, 4), 9)\n",
=======
    "    def test_sum_number_expect_fail(self):\n",
    "        self.assertFalse(sum_number(2, 2) == 5)\n",
    "        \n",
    "    def test_sum_number_expect_ok(self):\n",
    "        self.assertEqual(sum_number(5, 4), 9)\n",
>>>>>>> Stashed changes:references/notebooks/unit test example.ipynb
    "        \n",
    "    def test_increase_with_the_answer_to_everything(self):\n",
    "        self.assertEqual(increase_with_the_answer_to_everything(4), 46)\n",
    "        \n",
    "    def test_add_hello_to_string(self):\n",
    "        self.assertEqual(add_hello_to_string(\"world\"), \"worldhello\")\n",
    "\n",
    "\n",
    "unittest.main(argv=[''], verbosity=2, exit=False)"
   ]
  },
  {
   "cell_type": "code",
<<<<<<< Updated upstream:example notebooks/Unit testing in Jupyter.ipynb
=======
   "execution_count": 3,
   "metadata": {},
   "outputs": [
    {
     "data": {
      "text/plain": [
       "13"
      ]
     },
     "execution_count": 3,
     "metadata": {},
     "output_type": "execute_result"
    }
   ],
   "source": []
  },
  {
   "cell_type": "code",
>>>>>>> Stashed changes:references/notebooks/unit test example.ipynb
   "execution_count": null,
   "metadata": {},
   "outputs": [],
   "source": []
  }
 ],
 "metadata": {
  "kernelspec": {
   "display_name": "Python 3",
   "language": "python",
   "name": "python3"
  },
  "language_info": {
   "codemirror_mode": {
    "name": "ipython",
    "version": 3
   },
   "file_extension": ".py",
   "mimetype": "text/x-python",
   "name": "python",
   "nbconvert_exporter": "python",
   "pygments_lexer": "ipython3",
   "version": "3.6.5"
  }
 },
 "nbformat": 4,
 "nbformat_minor": 2
}
