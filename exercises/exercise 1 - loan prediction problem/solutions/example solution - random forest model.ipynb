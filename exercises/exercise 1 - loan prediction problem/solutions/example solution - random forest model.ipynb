{
 "cells": [
  {
   "cell_type": "markdown",
   "metadata": {},
   "source": [
    "# Functions"
   ]
  },
  {
   "cell_type": "code",
   "execution_count": 16,
   "metadata": {},
   "outputs": [],
   "source": [
    "def fill_missing_values(df):\n",
    "    \"\"\"Fill in missing values based on column type\"\"\"\n",
    "    return df.dropna()\n",
    "\n",
    "def replace_binary_labels_with_numeric(df):\n",
    "    \"\"\"Replace binary categories with 0 and 1\"\"\"\n",
    "    return df.replace({\n",
    "        'Gender': {'Male': 0, 'Female': 1}, \n",
    "        'Education': {'Graduate': 0, 'Not Graduate': 1}, \n",
    "        'Married': { 'Yes': 0, 'No': 1},\n",
    "        'Self_Employed': { 'Yes': 0, 'No': 1},\n",
    "        'Loan_Status': { 'Y': 0, 'N': 1}\n",
    "    })\n",
    "\n",
    "def replace_binary_labels_with_numeric_no_loan(df):\n",
    "    \"\"\"Replace binary categories with 0 and 1\"\"\"\n",
    "    return df.replace({\n",
    "        'Gender': {'Male': 0, 'Female': 1}, \n",
    "        'Education': {'Graduate': 0, 'Not Graduate': 1}, \n",
    "        'Married': { 'Yes': 0, 'No': 1},\n",
    "        'Self_Employed': { 'Yes': 0, 'No': 1}\n",
    "    })\n",
    "\n",
    "def create_dummies(df, columns):\n",
    "    \"\"\"Create dummy columns for categories and merge into dataframe\"\"\"\n",
    "    for column in columns:\n",
    "        dummy = pd.get_dummies(df[column], drop_first = True)\n",
    "        df = pd.concat([df, dummy], axis = 1)\n",
    "        df = df.drop(column, axis = 1)\n",
    "   \n",
    "    return df"
   ]
  },
  {
   "cell_type": "code",
   "execution_count": 32,
   "metadata": {},
   "outputs": [],
   "source": [
    "import pandas as pd\n",
    "import seaborn as sb\n",
    "import numpy as np\n",
    "from sklearn.ensemble import RandomForestRegressor\n",
    "\n",
    "train = pd.read_csv(\"../data/train.csv\")\n",
    "test = pd.read_csv(\"../data/test.csv\")\n",
    "\n",
    "train = fill_missing_values(train)\n",
    "test = fill_missing_values(test)\n",
    "\n",
    "train = replace_binary_labels_with_numeric(train)\n",
    "test = replace_binary_labels_with_numeric_no_loan(test)\n",
    "\n",
    "train = create_dummies(train, ['Property_Area', 'Dependents'])\n",
    "test = create_dummies(test, ['Property_Area', 'Dependents'])"
   ]
  },
  {
   "cell_type": "markdown",
   "metadata": {},
   "source": [
    "# Model"
   ]
  },
  {
   "cell_type": "code",
   "execution_count": 33,
   "metadata": {},
   "outputs": [],
   "source": [
    "# Labels are the values we want to predict\n",
    "labels = np.array(train['Loan_Status'])\n",
    "\n",
    "# Remove the labels from the features\n",
    "# axis 1 refers to the columns\n",
    "train = train.drop('Loan_Status', axis = 1)\n",
    "train = train.drop('Loan_ID', axis = 1)\n",
    "\n",
    "# Saving feature names for later use\n",
    "feature_list = list(train.columns)\n",
    "\n",
    "# Convert to numpy array\n",
    "train = np.array(train)"
   ]
  },
  {
   "cell_type": "code",
   "execution_count": 34,
   "metadata": {},
   "outputs": [],
   "source": [
    "# Instantiate model with 1000 decision trees\n",
    "rf = RandomForestRegressor(n_estimators = 1000, random_state = 42)\n",
    "\n",
    "# Train the model on training data\n",
    "rf.fit(train, labels);"
   ]
  },
  {
   "cell_type": "markdown",
   "metadata": {},
   "source": [
    "# Predictions"
   ]
  },
  {
   "cell_type": "code",
   "execution_count": 38,
   "metadata": {},
   "outputs": [],
   "source": [
    "predictions = rf.predict(test.drop('Loan_ID', axis = 1))"
   ]
  },
  {
   "cell_type": "code",
   "execution_count": null,
   "metadata": {},
   "outputs": [],
   "source": [
    "# Calculate the absolute errors\n",
    "errors = abs(predictions - test_labels)"
   ]
  }
 ],
 "metadata": {
  "kernelspec": {
   "display_name": "Python 3",
   "language": "python",
   "name": "python3"
  },
  "language_info": {
   "codemirror_mode": {
    "name": "ipython",
    "version": 3
   },
   "file_extension": ".py",
   "mimetype": "text/x-python",
   "name": "python",
   "nbconvert_exporter": "python",
   "pygments_lexer": "ipython3",
   "version": "3.6.5"
  }
 },
 "nbformat": 4,
 "nbformat_minor": 2
}
