{
 "cells": [
  {
   "cell_type": "code",
   "execution_count": 2,
   "metadata": {},
   "outputs": [],
   "source": [
    "def sum(a, b):\n",
    "    \"\"\"Return the sum of a and b\"\"\"\n",
    "    return a + b\n",
    "\n",
    "def increase_with_the_answer_to_everything(a):\n",
    "    \"\"\"Return the sum of a and 42\"\"\"\n",
    "    return a + 42\n",
    "\n",
    "def add_hello_to_string(string):\n",
    "    \"\"\"Return a string with hello attached to the end\"\"\"\n",
    "    return string + \"hello\""
   ]
  },
  {
   "cell_type": "code",
   "execution_count": 3,
   "metadata": {},
   "outputs": [
    {
     "name": "stderr",
     "output_type": "stream",
     "text": [
      "test_add_hello_to_string (__main__.TestNotebook) ... ok\n",
      "test_increase_with_the_answer_to_everything (__main__.TestNotebook) ... ok\n",
      "test_sum_expect_fail (__main__.TestNotebook) ... ok\n",
      "test_sum_expect_ok (__main__.TestNotebook) ... ok\n",
      "\n",
      "----------------------------------------------------------------------\n",
      "Ran 4 tests in 0.015s\n",
      "\n",
      "OK\n"
     ]
    },
    {
     "data": {
      "text/plain": [
       "<unittest.main.TestProgram at 0x4e8f1d0>"
      ]
     },
     "execution_count": 3,
     "metadata": {},
     "output_type": "execute_result"
    }
   ],
   "source": [
    "import unittest\n",
    "\n",
    "class TestNotebook(unittest.TestCase):\n",
    "    \n",
    "    def test_sum_expect_fail(self):\n",
    "        self.assertFalse(sum(2, 2) == 5)\n",
    "        \n",
    "    def test_sum_expect_ok(self):\n",
    "        self.assertEqual(sum(5, 4), 9)\n",
    "        \n",
    "    def test_increase_with_the_answer_to_everything(self):\n",
    "        self.assertEqual(increase_with_the_answer_to_everything(4), 46)\n",
    "        \n",
    "    def test_add_hello_to_string(self):\n",
    "        self.assertEqual(add_hello_to_string(\"world\"), \"worldhello\")\n",
    "\n",
    "\n",
    "unittest.main(argv=[''], verbosity=2, exit=False)"
   ]
  }
 ],
 "metadata": {
  "kernelspec": {
   "display_name": "Python 3",
   "language": "python",
   "name": "python3"
  },
  "language_info": {
   "codemirror_mode": {
    "name": "ipython",
    "version": 3
   },
   "file_extension": ".py",
   "mimetype": "text/x-python",
   "name": "python",
   "nbconvert_exporter": "python",
   "pygments_lexer": "ipython3",
   "version": "3.6.5"
  }
 },
 "nbformat": 4,
 "nbformat_minor": 2
}
